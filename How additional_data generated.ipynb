{
 "cells": [
  {
   "cell_type": "markdown",
   "id": "df077022-5910-4e63-b908-69aba3745482",
   "metadata": {},
   "source": [
    "### All Dataset Used before categorised into main_data and additional_data\n",
    "This is the original url all the dataset are originated in, but you do not need manually clicked this to download as the script below will mitigate that directly\n",
    "1.  Obesity Data (NCMP) I prepare the dataset using Excel as it is a small dataset\n",
    "2.  Lookup_table = https://github.com/nooriza16/obesity_prevalence/raw/refs/heads/main/PCD11_OA11_LSOA11_MSOA11_LAD11_EW_LU_aligned_v2.zip  \n",
    "source : https://geoportal.statistics.gov.uk/datasets/9c5ebee4163d435aa4defdaf348ba3c2/about  \n",
    "3. Mental Health indicator = https://pldr.org/download/2noyv/q3n/samhi_21_01_v5.00_2011_2022_LSOA.csv\n",
    "4. Data from ONS (all from NOMIS)\n",
    "5. Data from OHID  \n",
    "   I download from https://www.localhealth.org.uk/#c=indicator&i=t1.overcrowding&view=map7, however starting of 15/04/2025 the website couldnt be opened. Basically they can provide me with dataset per MSOA 2011 filtered by London directly"
   ]
  },
  {
   "cell_type": "code",
   "execution_count": 9,
   "id": "e83aa8ad-2328-4c5d-b559-4e5582de399a",
   "metadata": {},
   "outputs": [],
   "source": [
    "# Packagdes for manipulating, processing, and visualizing data\n",
    "import numpy as np\n",
    "import scipy.stats as stats\n",
    "import pandas as pd \n",
    "import requests\n",
    "from zipfile import ZipFile\n",
    "import os\n",
    "from urllib.parse import urlparse\n",
    "import os"
   ]
  },
  {
   "cell_type": "markdown",
   "id": "9276d588-0642-49d1-b40d-7578f064237a",
   "metadata": {},
   "source": [
    "# Data from PLDR > SAMHI Index (Aggregating Mental Health LSOA Level to MSOA)"
   ]
  },
  {
   "cell_type": "markdown",
   "id": "fef99914-c7ad-4677-bb12-7c5bfdc6bc4f",
   "metadata": {},
   "source": [
    "### Look Up Data"
   ]
  },
  {
   "cell_type": "code",
   "execution_count": 11,
   "id": "a69b9c83-a791-4c2c-bfd1-58e41c9faa77",
   "metadata": {},
   "outputs": [
    {
     "name": "stdout",
     "output_type": "stream",
     "text": [
      "Zip file 'PCD11_OA11_LSOA11_MSOA11_LAD11_EW_LU_aligned_v2.zip' downloaded and extracted successfully.\n"
     ]
    }
   ],
   "source": [
    "# Step 1: Download the file from the URL\n",
    "url = 'https://github.com/nooriza16/obesity_prevalence/raw/refs/heads/main/PCD11_OA11_LSOA11_MSOA11_LAD11_EW_LU_aligned_v2.zip'\n",
    "\n",
    "# Extract filename from the URL using urllib\n",
    "filename = os.path.basename(urlparse(url).path)\n",
    "\n",
    "# Send HTTP request to get the zip file\n",
    "response = requests.get(url)\n",
    "response.raise_for_status()  # Check if the request was successful\n",
    "\n",
    "# Write the content of the response to a local file using the extracted filename\n",
    "with open(filename, 'wb') as file:\n",
    "    file.write(response.content)\n",
    "\n",
    "# Step 2: Extract the zip file\n",
    "with ZipFile(filename, 'r') as zip_ref:\n",
    "    zip_ref.extractall('extracted_files')  # Folder where you want to extract the files\n",
    "\n",
    "print(f\"Zip file '{filename}' downloaded and extracted successfully.\")\n"
   ]
  },
  {
   "cell_type": "code",
   "execution_count": 13,
   "id": "383b2782-8773-481a-b11a-5ae2eca62e10",
   "metadata": {},
   "outputs": [
    {
     "name": "stderr",
     "output_type": "stream",
     "text": [
      "C:\\Users\\nooriza maharani\\AppData\\Local\\Temp\\ipykernel_8504\\3827118771.py:8: DtypeWarning: Columns (9) have mixed types. Specify dtype option on import or set low_memory=False.\n",
      "  lookup_table = pd.read_csv(csv_file_path)\n"
     ]
    }
   ],
   "source": [
    "import pandas as pd\n",
    "import os\n",
    "\n",
    "# Specify the path to the extracted CSV file\n",
    "csv_file_path = 'extracted_files/PCD11_OA11_LSOA11_MSOA11_LAD11_EW_LU_aligned_v2.csv'\n",
    "\n",
    "# Read the CSV file into a DataFrame\n",
    "lookup_table = pd.read_csv(csv_file_path)\n",
    "\n",
    "lookup_table.drop(columns = ['PCD7', 'PCD8', 'OA11CD', 'LAD11CD', 'LAD11NM', 'LAD11NMW', 'PCDOASPLT'], inplace = True)"
   ]
  },
  {
   "cell_type": "code",
   "execution_count": 15,
   "id": "9d931b5d-4494-43ba-94fd-0138993db006",
   "metadata": {},
   "outputs": [
    {
     "data": {
      "text/html": [
       "<div>\n",
       "<style scoped>\n",
       "    .dataframe tbody tr th:only-of-type {\n",
       "        vertical-align: middle;\n",
       "    }\n",
       "\n",
       "    .dataframe tbody tr th {\n",
       "        vertical-align: top;\n",
       "    }\n",
       "\n",
       "    .dataframe thead th {\n",
       "        text-align: right;\n",
       "    }\n",
       "</style>\n",
       "<table border=\"1\" class=\"dataframe\">\n",
       "  <thead>\n",
       "    <tr style=\"text-align: right;\">\n",
       "      <th></th>\n",
       "      <th>LSOA11CD</th>\n",
       "      <th>LSOA11NM</th>\n",
       "      <th>MSOA11CD</th>\n",
       "      <th>MSOA11NM</th>\n",
       "    </tr>\n",
       "  </thead>\n",
       "  <tbody>\n",
       "    <tr>\n",
       "      <th>0</th>\n",
       "      <td>E01006686</td>\n",
       "      <td>Liverpool 053E</td>\n",
       "      <td>E02001399</td>\n",
       "      <td>Liverpool 053</td>\n",
       "    </tr>\n",
       "    <tr>\n",
       "      <th>1</th>\n",
       "      <td>E01006686</td>\n",
       "      <td>Liverpool 053E</td>\n",
       "      <td>E02001399</td>\n",
       "      <td>Liverpool 053</td>\n",
       "    </tr>\n",
       "  </tbody>\n",
       "</table>\n",
       "</div>"
      ],
      "text/plain": [
       "    LSOA11CD        LSOA11NM   MSOA11CD       MSOA11NM\n",
       "0  E01006686  Liverpool 053E  E02001399  Liverpool 053\n",
       "1  E01006686  Liverpool 053E  E02001399  Liverpool 053"
      ]
     },
     "execution_count": 15,
     "metadata": {},
     "output_type": "execute_result"
    }
   ],
   "source": [
    "lookup_table.head(2)"
   ]
  },
  {
   "cell_type": "markdown",
   "id": "c4153077-5e3b-4679-b1b9-d90c98ca86c4",
   "metadata": {},
   "source": [
    "## SAMHI Index Data by LSOA"
   ]
  },
  {
   "cell_type": "code",
   "execution_count": 17,
   "id": "34d20c60-c2ae-4904-af72-c2e4e2b20131",
   "metadata": {},
   "outputs": [],
   "source": [
    "lsoa_mhi = pd.read_csv('https://raw.githubusercontent.com/nooriza16/obesity_prevalence/refs/heads/main/samhi_21_01_v5.00_2011_2022_LSOA.csv')"
   ]
  },
  {
   "cell_type": "code",
   "execution_count": 19,
   "id": "daeff8ee-8122-49a3-bb10-f74208385848",
   "metadata": {},
   "outputs": [],
   "source": [
    "# Select only the desired columns\n",
    "df_selected = lsoa_mhi[['lsoa11', 'samhi_index.2011']]"
   ]
  },
  {
   "cell_type": "code",
   "execution_count": 21,
   "id": "8db69dba-2b65-469d-b3e5-4243134ba23c",
   "metadata": {},
   "outputs": [
    {
     "data": {
      "text/html": [
       "<div>\n",
       "<style scoped>\n",
       "    .dataframe tbody tr th:only-of-type {\n",
       "        vertical-align: middle;\n",
       "    }\n",
       "\n",
       "    .dataframe tbody tr th {\n",
       "        vertical-align: top;\n",
       "    }\n",
       "\n",
       "    .dataframe thead th {\n",
       "        text-align: right;\n",
       "    }\n",
       "</style>\n",
       "<table border=\"1\" class=\"dataframe\">\n",
       "  <thead>\n",
       "    <tr style=\"text-align: right;\">\n",
       "      <th></th>\n",
       "      <th>lsoa11</th>\n",
       "      <th>samhi_index.2011</th>\n",
       "    </tr>\n",
       "  </thead>\n",
       "  <tbody>\n",
       "    <tr>\n",
       "      <th>0</th>\n",
       "      <td>E01000001</td>\n",
       "      <td>-1.757895</td>\n",
       "    </tr>\n",
       "    <tr>\n",
       "      <th>1</th>\n",
       "      <td>E01000002</td>\n",
       "      <td>-1.752900</td>\n",
       "    </tr>\n",
       "  </tbody>\n",
       "</table>\n",
       "</div>"
      ],
      "text/plain": [
       "      lsoa11  samhi_index.2011\n",
       "0  E01000001         -1.757895\n",
       "1  E01000002         -1.752900"
      ]
     },
     "execution_count": 21,
     "metadata": {},
     "output_type": "execute_result"
    }
   ],
   "source": [
    "df_selected.head(2)"
   ]
  },
  {
   "cell_type": "code",
   "execution_count": 23,
   "id": "e0e52a97-dd0f-4bf0-9a33-23ee32737c3b",
   "metadata": {},
   "outputs": [],
   "source": [
    "# merge data\n",
    "merged_data = pd.merge(df_selected, lookup_table, left_on='lsoa11', right_on = 'LSOA11CD')"
   ]
  },
  {
   "cell_type": "code",
   "execution_count": 27,
   "id": "04ad0931-a6ca-496a-9ada-792980ceb79c",
   "metadata": {},
   "outputs": [
    {
     "data": {
      "text/html": [
       "<div>\n",
       "<style scoped>\n",
       "    .dataframe tbody tr th:only-of-type {\n",
       "        vertical-align: middle;\n",
       "    }\n",
       "\n",
       "    .dataframe tbody tr th {\n",
       "        vertical-align: top;\n",
       "    }\n",
       "\n",
       "    .dataframe thead th {\n",
       "        text-align: right;\n",
       "    }\n",
       "</style>\n",
       "<table border=\"1\" class=\"dataframe\">\n",
       "  <thead>\n",
       "    <tr style=\"text-align: right;\">\n",
       "      <th></th>\n",
       "      <th>lsoa11</th>\n",
       "      <th>samhi_index.2011</th>\n",
       "      <th>LSOA11CD</th>\n",
       "      <th>LSOA11NM</th>\n",
       "      <th>MSOA11CD</th>\n",
       "      <th>MSOA11NM</th>\n",
       "    </tr>\n",
       "  </thead>\n",
       "  <tbody>\n",
       "    <tr>\n",
       "      <th>0</th>\n",
       "      <td>E01000001</td>\n",
       "      <td>-1.757895</td>\n",
       "      <td>E01000001</td>\n",
       "      <td>City of London 001A</td>\n",
       "      <td>E02000001</td>\n",
       "      <td>City of London 001</td>\n",
       "    </tr>\n",
       "    <tr>\n",
       "      <th>1</th>\n",
       "      <td>E01000001</td>\n",
       "      <td>-1.757895</td>\n",
       "      <td>E01000001</td>\n",
       "      <td>City of London 001A</td>\n",
       "      <td>E02000001</td>\n",
       "      <td>City of London 001</td>\n",
       "    </tr>\n",
       "  </tbody>\n",
       "</table>\n",
       "</div>"
      ],
      "text/plain": [
       "      lsoa11  samhi_index.2011   LSOA11CD             LSOA11NM   MSOA11CD  \\\n",
       "0  E01000001         -1.757895  E01000001  City of London 001A  E02000001   \n",
       "1  E01000001         -1.757895  E01000001  City of London 001A  E02000001   \n",
       "\n",
       "             MSOA11NM  \n",
       "0  City of London 001  \n",
       "1  City of London 001  "
      ]
     },
     "execution_count": 27,
     "metadata": {},
     "output_type": "execute_result"
    }
   ],
   "source": [
    "merged_data.head(2)"
   ]
  },
  {
   "cell_type": "code",
   "execution_count": 29,
   "id": "680d07f9-d836-4d8c-bc26-fa52e5b854d2",
   "metadata": {},
   "outputs": [
    {
     "data": {
      "text/plain": [
       "(1227686, 6)"
      ]
     },
     "execution_count": 29,
     "metadata": {},
     "output_type": "execute_result"
    }
   ],
   "source": [
    "merged_data.shape"
   ]
  },
  {
   "cell_type": "code",
   "execution_count": 31,
   "id": "4a1979ca-0915-42f5-add3-01e177241011",
   "metadata": {},
   "outputs": [],
   "source": [
    "# aggregate LSOA SAMHI Index into MSOA by grouping the average index\n",
    "aggregated_data2 = merged_data.groupby('MSOA11CD').agg({'samhi_index.2011': 'mean'}).reset_index()"
   ]
  },
  {
   "cell_type": "code",
   "execution_count": 33,
   "id": "1dd5522e-093b-403f-8315-4d5c03b4d2dd",
   "metadata": {},
   "outputs": [
    {
     "data": {
      "text/plain": [
       "(6791, 2)"
      ]
     },
     "execution_count": 33,
     "metadata": {},
     "output_type": "execute_result"
    }
   ],
   "source": [
    "aggregated_data2.shape"
   ]
  },
  {
   "cell_type": "code",
   "execution_count": 35,
   "id": "287fc564-4136-4cdb-a065-28926cd5a9ee",
   "metadata": {},
   "outputs": [],
   "source": [
    "##Let's check using our obesity MSOA data which should have 983 rows\n",
    "main_data = pd.read_csv(\"https://raw.githubusercontent.com/nooriza16/obesity_prevalence/refs/heads/main/obesity.csv\")"
   ]
  },
  {
   "cell_type": "code",
   "execution_count": 39,
   "id": "c7b6e5fb-35bb-4b5d-b483-e601484eb332",
   "metadata": {},
   "outputs": [
    {
     "data": {
      "text/plain": [
       "Index(['Code', 'obesity_pre_teen'], dtype='object')"
      ]
     },
     "execution_count": 39,
     "metadata": {},
     "output_type": "execute_result"
    }
   ],
   "source": [
    "main_data.columns"
   ]
  },
  {
   "cell_type": "code",
   "execution_count": 41,
   "id": "943c73ae-7a7e-4e81-bdd2-333d82cf739d",
   "metadata": {},
   "outputs": [],
   "source": [
    "# Merging SAMHI and Obesity data\n",
    "obesity_samhi = pd.merge(main_data, aggregated_data2, left_on = 'Code', right_on ='MSOA11CD')"
   ]
  },
  {
   "cell_type": "code",
   "execution_count": 43,
   "id": "3b6c7998-3fae-4a9f-9963-2797ece0d951",
   "metadata": {},
   "outputs": [
    {
     "data": {
      "text/html": [
       "<div>\n",
       "<style scoped>\n",
       "    .dataframe tbody tr th:only-of-type {\n",
       "        vertical-align: middle;\n",
       "    }\n",
       "\n",
       "    .dataframe tbody tr th {\n",
       "        vertical-align: top;\n",
       "    }\n",
       "\n",
       "    .dataframe thead th {\n",
       "        text-align: right;\n",
       "    }\n",
       "</style>\n",
       "<table border=\"1\" class=\"dataframe\">\n",
       "  <thead>\n",
       "    <tr style=\"text-align: right;\">\n",
       "      <th></th>\n",
       "      <th>Code</th>\n",
       "      <th>obesity_pre_teen</th>\n",
       "      <th>MSOA11CD</th>\n",
       "      <th>samhi_index.2011</th>\n",
       "    </tr>\n",
       "  </thead>\n",
       "  <tbody>\n",
       "    <tr>\n",
       "      <th>0</th>\n",
       "      <td>E02000001</td>\n",
       "      <td>0.23214285714285715</td>\n",
       "      <td>E02000001</td>\n",
       "      <td>-1.706400</td>\n",
       "    </tr>\n",
       "    <tr>\n",
       "      <th>1</th>\n",
       "      <td>E02000002</td>\n",
       "      <td>0.24015748031496062</td>\n",
       "      <td>E02000002</td>\n",
       "      <td>-1.331989</td>\n",
       "    </tr>\n",
       "  </tbody>\n",
       "</table>\n",
       "</div>"
      ],
      "text/plain": [
       "        Code     obesity_pre_teen   MSOA11CD  samhi_index.2011\n",
       "0  E02000001  0.23214285714285715  E02000001         -1.706400\n",
       "1  E02000002  0.24015748031496062  E02000002         -1.331989"
      ]
     },
     "execution_count": 43,
     "metadata": {},
     "output_type": "execute_result"
    }
   ],
   "source": [
    "obesity_samhi.head(2)"
   ]
  },
  {
   "cell_type": "code",
   "execution_count": 47,
   "id": "c8990af2-8647-4750-adaf-bb11735b6521",
   "metadata": {},
   "outputs": [],
   "source": [
    "obesity_samhi.drop(columns = ['MSOA11CD'], inplace = True)"
   ]
  },
  {
   "cell_type": "code",
   "execution_count": 49,
   "id": "509ac7e9-4259-4020-8e46-9fd87d8b83a8",
   "metadata": {},
   "outputs": [
    {
     "data": {
      "text/plain": [
       "(983, 3)"
      ]
     },
     "execution_count": 49,
     "metadata": {},
     "output_type": "execute_result"
    }
   ],
   "source": [
    "obesity_samhi.shape"
   ]
  },
  {
   "cell_type": "code",
   "execution_count": 51,
   "id": "82c4bc88-ba64-4ac8-bb9f-bedb96c525e2",
   "metadata": {},
   "outputs": [],
   "source": [
    "obesity_samhi.to_csv('obesity_samhi.csv', index = 0)"
   ]
  },
  {
   "cell_type": "markdown",
   "id": "86937317-5c3a-4233-9c02-01b31a442f27",
   "metadata": {},
   "source": [
    "# Data from OHID"
   ]
  },
  {
   "cell_type": "code",
   "execution_count": 87,
   "id": "6f9016ed-6cfc-46d3-b2bc-12ddca8b50c4",
   "metadata": {},
   "outputs": [],
   "source": [
    "OHID_data = pd.read_csv('https://raw.githubusercontent.com/nooriza16/obesity_prevalence/refs/heads/main/Data%20Archive/OHID_Data.csv')"
   ]
  },
  {
   "cell_type": "code",
   "execution_count": 142,
   "id": "a4bbcf1f-34d9-4247-963a-461692eaa153",
   "metadata": {},
   "outputs": [
    {
     "data": {
      "text/plain": [
       "Index(['Code', 'Msoa_name', 'child_poverty', 'overcrowded_houses',\n",
       "       'self_harm_hospital_admission'],\n",
       "      dtype='object')"
      ]
     },
     "execution_count": 142,
     "metadata": {},
     "output_type": "execute_result"
    }
   ],
   "source": [
    "OHID_data.columns"
   ]
  },
  {
   "cell_type": "markdown",
   "id": "9e74f78e-11f7-4d85-9733-c07ae387c372",
   "metadata": {},
   "source": [
    "# Data from ONS"
   ]
  },
  {
   "cell_type": "code",
   "execution_count": 131,
   "id": "2e644b16-9a71-4352-8194-63fa18f870ab",
   "metadata": {},
   "outputs": [],
   "source": [
    "ONS = pd.read_csv('https://raw.githubusercontent.com/nooriza16/obesity_prevalence/refs/heads/main/Data%20Archive/ONS_aggregated.csv')"
   ]
  },
  {
   "cell_type": "markdown",
   "id": "c2b27c43-ff74-4273-91f0-86fd7afc29cb",
   "metadata": {},
   "source": [
    "# Merge Additional_data"
   ]
  },
  {
   "cell_type": "code",
   "execution_count": 134,
   "id": "eb73a2ce-330b-4e67-a6f9-a44438507a08",
   "metadata": {},
   "outputs": [],
   "source": [
    "# merge data\n",
    "ohid_ons = pd.merge(OHID_data, ONS, on = 'Code', how = 'inner')"
   ]
  },
  {
   "cell_type": "code",
   "execution_count": 138,
   "id": "82b6566f-3e51-4e68-9c23-11d4eb2e343c",
   "metadata": {},
   "outputs": [],
   "source": [
    "# merge data\n",
    "additional_data = pd.merge(ohid_ons, obesity_samhi, on = 'Code', how = 'inner')"
   ]
  },
  {
   "cell_type": "code",
   "execution_count": 144,
   "id": "c738e846-17cc-4c9b-8dc6-ca34d90a6aad",
   "metadata": {},
   "outputs": [
    {
     "data": {
      "text/plain": [
       "(983, 14)"
      ]
     },
     "execution_count": 144,
     "metadata": {},
     "output_type": "execute_result"
    }
   ],
   "source": [
    "additional_data.shape"
   ]
  },
  {
   "cell_type": "code",
   "execution_count": 148,
   "id": "4512a4ad-d503-4ec9-9ded-0ab9f6fe51d3",
   "metadata": {},
   "outputs": [],
   "source": [
    "additional_data.drop(columns = ['Msoa_name_y','obesity_pre_teen'], inplace = True)"
   ]
  },
  {
   "cell_type": "code",
   "execution_count": 150,
   "id": "a9c5b04d-4335-4a47-8274-fc90ad098da3",
   "metadata": {},
   "outputs": [
    {
     "data": {
      "text/html": [
       "<div>\n",
       "<style scoped>\n",
       "    .dataframe tbody tr th:only-of-type {\n",
       "        vertical-align: middle;\n",
       "    }\n",
       "\n",
       "    .dataframe tbody tr th {\n",
       "        vertical-align: top;\n",
       "    }\n",
       "\n",
       "    .dataframe thead th {\n",
       "        text-align: right;\n",
       "    }\n",
       "</style>\n",
       "<table border=\"1\" class=\"dataframe\">\n",
       "  <thead>\n",
       "    <tr style=\"text-align: right;\">\n",
       "      <th></th>\n",
       "      <th>Code</th>\n",
       "      <th>Msoa_name_x</th>\n",
       "      <th>child_poverty</th>\n",
       "      <th>overcrowded_houses</th>\n",
       "      <th>self_harm_hospital_admission</th>\n",
       "      <th>lone_parent_unemployed</th>\n",
       "      <th>families_with_3plus_kids</th>\n",
       "      <th>population_cannot_speak_english</th>\n",
       "      <th>Limiting_long-term_illness_disability</th>\n",
       "      <th>education_no qualifications</th>\n",
       "      <th>work_49hr_more</th>\n",
       "      <th>samhi_index.2011</th>\n",
       "    </tr>\n",
       "  </thead>\n",
       "  <tbody>\n",
       "    <tr>\n",
       "      <th>0</th>\n",
       "      <td>E02000001</td>\n",
       "      <td>City of London 001</td>\n",
       "      <td>7.1</td>\n",
       "      <td>34.6</td>\n",
       "      <td>19.2</td>\n",
       "      <td>24.2</td>\n",
       "      <td>8.816705</td>\n",
       "      <td>1.4</td>\n",
       "      <td>11.5</td>\n",
       "      <td>6.7</td>\n",
       "      <td>1817</td>\n",
       "      <td>-1.706400</td>\n",
       "    </tr>\n",
       "    <tr>\n",
       "      <th>1</th>\n",
       "      <td>E02000002</td>\n",
       "      <td>Barking and Dagenham 001</td>\n",
       "      <td>27.2</td>\n",
       "      <td>14.7</td>\n",
       "      <td>62.6</td>\n",
       "      <td>56.0</td>\n",
       "      <td>19.052133</td>\n",
       "      <td>2.4</td>\n",
       "      <td>20.4</td>\n",
       "      <td>32.3</td>\n",
       "      <td>203</td>\n",
       "      <td>-1.331989</td>\n",
       "    </tr>\n",
       "  </tbody>\n",
       "</table>\n",
       "</div>"
      ],
      "text/plain": [
       "        Code               Msoa_name_x  child_poverty  overcrowded_houses  \\\n",
       "0  E02000001        City of London 001            7.1                34.6   \n",
       "1  E02000002  Barking and Dagenham 001           27.2                14.7   \n",
       "\n",
       "  self_harm_hospital_admission  lone_parent_unemployed  \\\n",
       "0                         19.2                    24.2   \n",
       "1                         62.6                    56.0   \n",
       "\n",
       "   families_with_3plus_kids  population_cannot_speak_english  \\\n",
       "0                  8.816705                              1.4   \n",
       "1                 19.052133                              2.4   \n",
       "\n",
       "   Limiting_long-term_illness_disability  education_no qualifications  \\\n",
       "0                                   11.5                          6.7   \n",
       "1                                   20.4                         32.3   \n",
       "\n",
       "   work_49hr_more  samhi_index.2011  \n",
       "0            1817         -1.706400  \n",
       "1             203         -1.331989  "
      ]
     },
     "execution_count": 150,
     "metadata": {},
     "output_type": "execute_result"
    }
   ],
   "source": [
    "additional_data.head(2)"
   ]
  },
  {
   "cell_type": "code",
   "execution_count": 152,
   "id": "f4cef24a-e6c2-4064-bb23-f4f41540bbc0",
   "metadata": {},
   "outputs": [],
   "source": [
    "additional_data.rename(columns = {'Msoa_name_x' : 'Msoa_name'}, inplace = True)"
   ]
  },
  {
   "cell_type": "code",
   "execution_count": 154,
   "id": "744ae186-efdf-45d7-8016-514927976fd9",
   "metadata": {},
   "outputs": [],
   "source": [
    "additional_data.to_csv('additional_data.csv', index = 0)"
   ]
  },
  {
   "cell_type": "code",
   "execution_count": 156,
   "id": "b0e13f0a-49fd-4617-918b-7ce44bb51d65",
   "metadata": {},
   "outputs": [
    {
     "data": {
      "text/plain": [
       "(983, 12)"
      ]
     },
     "execution_count": 156,
     "metadata": {},
     "output_type": "execute_result"
    }
   ],
   "source": [
    "additional_data.shape"
   ]
  }
 ],
 "metadata": {
  "kernelspec": {
   "display_name": "Python [conda env:base] *",
   "language": "python",
   "name": "conda-base-py"
  },
  "language_info": {
   "codemirror_mode": {
    "name": "ipython",
    "version": 3
   },
   "file_extension": ".py",
   "mimetype": "text/x-python",
   "name": "python",
   "nbconvert_exporter": "python",
   "pygments_lexer": "ipython3",
   "version": "3.12.3"
  }
 },
 "nbformat": 4,
 "nbformat_minor": 5
}
